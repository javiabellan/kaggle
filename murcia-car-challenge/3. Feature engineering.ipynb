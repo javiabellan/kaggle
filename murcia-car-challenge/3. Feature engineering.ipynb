{
 "cells": [
  {
   "cell_type": "markdown",
   "metadata": {},
   "source": [
    "# <center> Feature engineering"
   ]
  },
  {
   "cell_type": "markdown",
   "metadata": {},
   "source": [
    "# Imports"
   ]
  },
  {
   "cell_type": "code",
   "execution_count": 1,
   "metadata": {},
   "outputs": [],
   "source": [
    "import time\n",
    "import numpy   as np\n",
    "import pandas  as pd\n",
    "import seaborn as sb\n",
    "import matplotlib.pyplot as plt\n",
    "import altair as alt\n",
    "import missingno as msno\n",
    "import unidecode\n",
    "\n",
    "from sklearn import preprocessing\n",
    "from sklearn import model_selection\n",
    "from sklearn import pipeline\n",
    "from sklearn import ensemble\n",
    "from sklearn import impute\n",
    "from sklearn import compose\n",
    "from sklearn import metrics\n",
    "from sklearn import inspection\n",
    "\n",
    "import lightgbm as lgb\n",
    "\n",
    "from geopy.geocoders import Nominatim\n",
    "geolocator = Nominatim(user_agent=\"myGeocoder\")\n",
    "\n",
    "pd.set_option('display.max_rows',    1000)\n",
    "pd.set_option('display.max_columns', 500)\n",
    "pd.set_option('display.width',       1000)"
   ]
  },
  {
   "cell_type": "markdown",
   "metadata": {},
   "source": [
    "---\n",
    "# <center> PART 1: PROCESS THE DATA\n",
    "---"
   ]
  },
  {
   "cell_type": "markdown",
   "metadata": {},
   "source": [
    "# Read data"
   ]
  },
  {
   "cell_type": "code",
   "execution_count": 2,
   "metadata": {},
   "outputs": [
    {
     "name": "stdout",
     "output_type": "stream",
     "text": [
      "160435 68758 68758\n"
     ]
    },
    {
     "data": {
      "text/html": [
       "<div>\n",
       "<style scoped>\n",
       "    .dataframe tbody tr th:only-of-type {\n",
       "        vertical-align: middle;\n",
       "    }\n",
       "\n",
       "    .dataframe tbody tr th {\n",
       "        vertical-align: top;\n",
       "    }\n",
       "\n",
       "    .dataframe thead th {\n",
       "        text-align: right;\n",
       "    }\n",
       "</style>\n",
       "<table border=\"1\" class=\"dataframe\">\n",
       "  <thead>\n",
       "    <tr style=\"text-align: right;\">\n",
       "      <th></th>\n",
       "      <th>Marca</th>\n",
       "      <th>Modelo</th>\n",
       "      <th>Tiempo</th>\n",
       "      <th>Provincia</th>\n",
       "      <th>Localidad</th>\n",
       "      <th>Año</th>\n",
       "      <th>Kms</th>\n",
       "      <th>Cambio</th>\n",
       "      <th>Cv</th>\n",
       "      <th>Combust</th>\n",
       "      <th>Puertas</th>\n",
       "      <th>Vendedor</th>\n",
       "      <th>Precio</th>\n",
       "    </tr>\n",
       "    <tr>\n",
       "      <th>Id</th>\n",
       "      <th></th>\n",
       "      <th></th>\n",
       "      <th></th>\n",
       "      <th></th>\n",
       "      <th></th>\n",
       "      <th></th>\n",
       "      <th></th>\n",
       "      <th></th>\n",
       "      <th></th>\n",
       "      <th></th>\n",
       "      <th></th>\n",
       "      <th></th>\n",
       "      <th></th>\n",
       "    </tr>\n",
       "  </thead>\n",
       "  <tbody>\n",
       "    <tr>\n",
       "      <th>0</th>\n",
       "      <td>OPEL</td>\n",
       "      <td>VECTRA</td>\n",
       "      <td>33 días</td>\n",
       "      <td>la_rioja</td>\n",
       "      <td>Arnedo</td>\n",
       "      <td>2005.0</td>\n",
       "      <td>200000.0</td>\n",
       "      <td>manual</td>\n",
       "      <td>120.0</td>\n",
       "      <td>diesel</td>\n",
       "      <td>5.0</td>\n",
       "      <td>Profesional</td>\n",
       "      <td>2200</td>\n",
       "    </tr>\n",
       "    <tr>\n",
       "      <th>1</th>\n",
       "      <td>NISSAN</td>\n",
       "      <td>PRIMERA</td>\n",
       "      <td>43 horas</td>\n",
       "      <td>aragon</td>\n",
       "      <td>Teruel</td>\n",
       "      <td>2008.0</td>\n",
       "      <td>400000.0</td>\n",
       "      <td>manual</td>\n",
       "      <td>100.0</td>\n",
       "      <td>diesel</td>\n",
       "      <td>4.0</td>\n",
       "      <td>Particular</td>\n",
       "      <td>3500</td>\n",
       "    </tr>\n",
       "    <tr>\n",
       "      <th>2</th>\n",
       "      <td>RENAULT</td>\n",
       "      <td>CLIO BUSINESS DCI 75 ECO2</td>\n",
       "      <td>14 horas</td>\n",
       "      <td>sevilla</td>\n",
       "      <td>Camas</td>\n",
       "      <td>2014.0</td>\n",
       "      <td>53565.0</td>\n",
       "      <td>manual</td>\n",
       "      <td>75.0</td>\n",
       "      <td>diesel</td>\n",
       "      <td>5.0</td>\n",
       "      <td>Profesional</td>\n",
       "      <td>8200</td>\n",
       "    </tr>\n",
       "    <tr>\n",
       "      <th>3</th>\n",
       "      <td>MERCEDES-BENZ</td>\n",
       "      <td>CLASE CLS</td>\n",
       "      <td>1 hora</td>\n",
       "      <td>burgos</td>\n",
       "      <td>Burgos</td>\n",
       "      <td>2007.0</td>\n",
       "      <td>215000.0</td>\n",
       "      <td>automat</td>\n",
       "      <td>224.0</td>\n",
       "      <td>diesel</td>\n",
       "      <td>4.0</td>\n",
       "      <td>Particular</td>\n",
       "      <td>12500</td>\n",
       "    </tr>\n",
       "    <tr>\n",
       "      <th>4</th>\n",
       "      <td>RENAULT</td>\n",
       "      <td>CAPTUR LIFE ENERGY DCI 90 ECO2 EURO 6</td>\n",
       "      <td>45 días</td>\n",
       "      <td>caceres</td>\n",
       "      <td>Caceres</td>\n",
       "      <td>2016.0</td>\n",
       "      <td>119945.0</td>\n",
       "      <td>manual</td>\n",
       "      <td>90.0</td>\n",
       "      <td>diesel</td>\n",
       "      <td>5.0</td>\n",
       "      <td>Profesional</td>\n",
       "      <td>9900</td>\n",
       "    </tr>\n",
       "  </tbody>\n",
       "</table>\n",
       "</div>"
      ],
      "text/plain": [
       "            Marca                                 Modelo    Tiempo Provincia Localidad     Año       Kms   Cambio     Cv Combust  Puertas     Vendedor  Precio\n",
       "Id                                                                                                                                                            \n",
       "0            OPEL                                 VECTRA   33 días  la_rioja    Arnedo  2005.0  200000.0   manual  120.0  diesel      5.0  Profesional    2200\n",
       "1          NISSAN                                PRIMERA  43 horas    aragon    Teruel  2008.0  400000.0   manual  100.0  diesel      4.0   Particular    3500\n",
       "2         RENAULT              CLIO BUSINESS DCI 75 ECO2  14 horas   sevilla     Camas  2014.0   53565.0   manual   75.0  diesel      5.0  Profesional    8200\n",
       "3   MERCEDES-BENZ                              CLASE CLS    1 hora    burgos    Burgos  2007.0  215000.0  automat  224.0  diesel      4.0   Particular   12500\n",
       "4         RENAULT  CAPTUR LIFE ENERGY DCI 90 ECO2 EURO 6   45 días   caceres   Caceres  2016.0  119945.0   manual   90.0  diesel      5.0  Profesional    9900"
      ]
     },
     "execution_count": 2,
     "metadata": {},
     "output_type": "execute_result"
    }
   ],
   "source": [
    "train = pd.read_csv(\"data/train.csv\", index_col=\"Id\")\n",
    "test  = pd.read_csv(\"data/test.csv\",  index_col=\"Id\")\n",
    "sub   = pd.read_csv(\"data/sampleSubmission.csv\", index_col=\"Id\")\n",
    "print(len(train), len(test), len(sub))\n",
    "train.head()"
   ]
  },
  {
   "cell_type": "markdown",
   "metadata": {},
   "source": [
    "# Data fixing"
   ]
  },
  {
   "cell_type": "code",
   "execution_count": 3,
   "metadata": {},
   "outputs": [],
   "source": [
    "def cleanString(valor):\n",
    "    return unidecode.unidecode(valor.upper().strip())\n",
    "\n",
    "def clean(data):\n",
    "    \n",
    "    data['Marca']  = data['Marca'].apply(cleanString)\n",
    "    data['Modelo'] = data['Modelo'].apply(cleanString)\n",
    "\n",
    "    data['Marca'].replace(\"MERCEDES\", \"MERCEDES-BENZ\",     inplace=True) # Fix Mercedes\n",
    "    data['Modelo'].replace(\"CLASE \", \"CLASE_\", regex=True, inplace=True) # Fix Mercedes models\n",
    "    data['Modelo'].replace(\"SERIE \", \"SERIE_\", regex=True, inplace=True) # Fix BMW models\n",
    "    data['Modelo'].replace(\"RANGE ROVER \", \"\", regex=True, inplace=True) # Fix Land Rover models\n",
    "    \n",
    "    return data\n",
    "\n",
    "train = clean(train)\n",
    "test  = clean(test)"
   ]
  },
  {
   "cell_type": "markdown",
   "metadata": {},
   "source": [
    "# Feature engeniring: Provincias lat & lon"
   ]
  },
  {
   "cell_type": "code",
   "execution_count": 4,
   "metadata": {},
   "outputs": [],
   "source": [
    "provincias = train['Provincia'].unique().tolist()"
   ]
  },
  {
   "cell_type": "code",
   "execution_count": 5,
   "metadata": {
    "scrolled": false
   },
   "outputs": [
    {
     "data": {
      "text/html": [
       "<div>\n",
       "<style scoped>\n",
       "    .dataframe tbody tr th:only-of-type {\n",
       "        vertical-align: middle;\n",
       "    }\n",
       "\n",
       "    .dataframe tbody tr th {\n",
       "        vertical-align: top;\n",
       "    }\n",
       "\n",
       "    .dataframe thead th {\n",
       "        text-align: right;\n",
       "    }\n",
       "</style>\n",
       "<table border=\"1\" class=\"dataframe\">\n",
       "  <thead>\n",
       "    <tr style=\"text-align: right;\">\n",
       "      <th></th>\n",
       "      <th>Provincia</th>\n",
       "      <th>Latitude</th>\n",
       "      <th>Longitude</th>\n",
       "    </tr>\n",
       "  </thead>\n",
       "  <tbody>\n",
       "    <tr>\n",
       "      <th>0</th>\n",
       "      <td>la_rioja</td>\n",
       "      <td>42.328553</td>\n",
       "      <td>-2.467492</td>\n",
       "    </tr>\n",
       "    <tr>\n",
       "      <th>1</th>\n",
       "      <td>aragon</td>\n",
       "      <td>41.378729</td>\n",
       "      <td>-0.763937</td>\n",
       "    </tr>\n",
       "    <tr>\n",
       "      <th>2</th>\n",
       "      <td>sevilla</td>\n",
       "      <td>37.388630</td>\n",
       "      <td>-5.995340</td>\n",
       "    </tr>\n",
       "    <tr>\n",
       "      <th>3</th>\n",
       "      <td>burgos</td>\n",
       "      <td>42.343926</td>\n",
       "      <td>-3.696977</td>\n",
       "    </tr>\n",
       "    <tr>\n",
       "      <th>4</th>\n",
       "      <td>caceres</td>\n",
       "      <td>39.474517</td>\n",
       "      <td>-6.371676</td>\n",
       "    </tr>\n",
       "  </tbody>\n",
       "</table>\n",
       "</div>"
      ],
      "text/plain": [
       "  Provincia   Latitude  Longitude\n",
       "0  la_rioja  42.328553  -2.467492\n",
       "1    aragon  41.378729  -0.763937\n",
       "2   sevilla  37.388630  -5.995340\n",
       "3    burgos  42.343926  -3.696977\n",
       "4   caceres  39.474517  -6.371676"
      ]
     },
     "execution_count": 5,
     "metadata": {},
     "output_type": "execute_result"
    }
   ],
   "source": [
    "def getLatLon():\n",
    "    provincias_loc = pd.DataFrame(columns=('Provincia', 'Latitude', 'Longitude'))\n",
    "\n",
    "    for p in provincias:\n",
    "        loc = geolocator.geocode(p.replace('_', ' ') + \", España\")\n",
    "        print(p,\"-->\", loc)\n",
    "        provincias_loc = provincias_loc.append({'Provincia':p , 'Latitude':loc.latitude, 'Longitude':loc.longitude}, ignore_index=True)\n",
    "        time.sleep(.5)\n",
    "\n",
    "    provincias_loc.to_csv(\"data/provincias.csv\", index=False)\n",
    "\n",
    "#getLatLon()\n",
    "provincias_loc = pd.read_csv(\"data/provincias.csv\")\n",
    "provincias_loc.head()"
   ]
  },
  {
   "cell_type": "code",
   "execution_count": 6,
   "metadata": {},
   "outputs": [
    {
     "data": {
      "text/html": [
       "\n",
       "<div id=\"altair-viz-cfaf852660e846b79d817cda373a9344\"></div>\n",
       "<script type=\"text/javascript\">\n",
       "  (function(spec, embedOpt){\n",
       "    const outputDiv = document.getElementById(\"altair-viz-cfaf852660e846b79d817cda373a9344\");\n",
       "    const paths = {\n",
       "      \"vega\": \"https://cdn.jsdelivr.net/npm//vega@5?noext\",\n",
       "      \"vega-lib\": \"https://cdn.jsdelivr.net/npm//vega-lib?noext\",\n",
       "      \"vega-lite\": \"https://cdn.jsdelivr.net/npm//vega-lite@4.0.2?noext\",\n",
       "      \"vega-embed\": \"https://cdn.jsdelivr.net/npm//vega-embed@6?noext\",\n",
       "    };\n",
       "\n",
       "    function loadScript(lib) {\n",
       "      return new Promise(function(resolve, reject) {\n",
       "        var s = document.createElement('script');\n",
       "        s.src = paths[lib];\n",
       "        s.async = true;\n",
       "        s.onload = () => resolve(paths[lib]);\n",
       "        s.onerror = () => reject(`Error loading script: ${paths[lib]}`);\n",
       "        document.getElementsByTagName(\"head\")[0].appendChild(s);\n",
       "      });\n",
       "    }\n",
       "\n",
       "    function showError(err) {\n",
       "      outputDiv.innerHTML = `<div class=\"error\" style=\"color:red;\">${err}</div>`;\n",
       "      throw err;\n",
       "    }\n",
       "\n",
       "    function displayChart(vegaEmbed) {\n",
       "      vegaEmbed(outputDiv, spec, embedOpt)\n",
       "        .catch(err => showError(`Javascript Error: ${err.message}<br>This usually means there's a typo in your chart specification. See the javascript console for the full traceback.`));\n",
       "    }\n",
       "\n",
       "    if(typeof define === \"function\" && define.amd) {\n",
       "      requirejs.config({paths});\n",
       "      require([\"vega-embed\"], displayChart, err => showError(`Error loading script: ${err.message}`));\n",
       "    } else if (typeof vegaEmbed === \"function\") {\n",
       "      displayChart(vegaEmbed);\n",
       "    } else {\n",
       "      loadScript(\"vega\")\n",
       "        .then(() => loadScript(\"vega-lite\"))\n",
       "        .then(() => loadScript(\"vega-embed\"))\n",
       "        .catch(showError)\n",
       "        .then(() => displayChart(vegaEmbed));\n",
       "    }\n",
       "  })({\"config\": {\"view\": {\"continuousWidth\": 400, \"continuousHeight\": 300}}, \"data\": {\"name\": \"data-9867ecbcb8d8d12027e2563c0a585d5e\"}, \"mark\": \"circle\", \"encoding\": {\"latitude\": {\"field\": \"Latitude\", \"type\": \"quantitative\"}, \"longitude\": {\"field\": \"Longitude\", \"type\": \"quantitative\"}, \"tooltip\": {\"type\": \"nominal\", \"field\": \"Provincia\"}}, \"$schema\": \"https://vega.github.io/schema/vega-lite/v4.0.2.json\", \"datasets\": {\"data-9867ecbcb8d8d12027e2563c0a585d5e\": [{\"Provincia\": \"la_rioja\", \"Latitude\": 42.3285528, \"Longitude\": -2.4674917}, {\"Provincia\": \"aragon\", \"Latitude\": 41.3787291, \"Longitude\": -0.7639373}, {\"Provincia\": \"sevilla\", \"Latitude\": 37.388630299999996, \"Longitude\": -5.9953403}, {\"Provincia\": \"burgos\", \"Latitude\": 42.343926, \"Longitude\": -3.6969769999999995}, {\"Provincia\": \"caceres\", \"Latitude\": 39.4745175, \"Longitude\": -6.3716761}, {\"Provincia\": \"madrid\", \"Latitude\": 40.416704700000004, \"Longitude\": -3.7035824999999996}, {\"Provincia\": \"valencia\", \"Latitude\": 39.4699014, \"Longitude\": -0.3759513}, {\"Provincia\": \"cordoba\", \"Latitude\": 37.884581299999994, \"Longitude\": -4.7760138}, {\"Provincia\": \"albacete\", \"Latitude\": 38.989012100000004, \"Longitude\": -1.8548699}, {\"Provincia\": \"palencia\", \"Latitude\": 42.4096322, \"Longitude\": -4.6161004102930665}, {\"Provincia\": \"baleares\", \"Latitude\": 39.6134018, \"Longitude\": 2.880430532640076}, {\"Provincia\": \"tenerife\", \"Latitude\": 28.2935785, \"Longitude\": -16.621447121144122}, {\"Provincia\": \"barcelona\", \"Latitude\": 41.3828939, \"Longitude\": 2.1774322}, {\"Provincia\": \"la_coruna\", \"Latitude\": 43.3712091, \"Longitude\": -8.395876800000002}, {\"Provincia\": \"navarra\", \"Latitude\": 42.61254875, \"Longitude\": -1.8307876829915457}, {\"Provincia\": \"tarragona\", \"Latitude\": 41.1172364, \"Longitude\": 1.2546057}, {\"Provincia\": \"lleida\", \"Latitude\": 41.614760499999996, \"Longitude\": 0.6267842}, {\"Provincia\": \"leon\", \"Latitude\": 42.63414505, \"Longitude\": -5.971415104539983}, {\"Provincia\": \"canarias\", \"Latitude\": 28.2935785, \"Longitude\": -16.621447121144122}, {\"Provincia\": \"avila\", \"Latitude\": 40.656478, \"Longitude\": -4.7002172}, {\"Provincia\": \"las_palmas\", \"Latitude\": 28.128874, \"Longitude\": -15.4349448}, {\"Provincia\": \"alicante\", \"Latitude\": 38.353738, \"Longitude\": -0.49018459999999997}, {\"Provincia\": \"jaen\", \"Latitude\": 37.9557275, \"Longitude\": -3.4920556120372184}, {\"Provincia\": \"ciudad_real\", \"Latitude\": 38.95975095, \"Longitude\": -3.8828283392159584}, {\"Provincia\": \"alava\", \"Latitude\": 42.84431715, \"Longitude\": -2.6822032394785}, {\"Provincia\": \"pontevedra\", \"Latitude\": 42.607517200000004, \"Longitude\": -8.4714942}, {\"Provincia\": \"almeria\", \"Latitude\": 36.8414197, \"Longitude\": -2.4628134999999998}, {\"Provincia\": \"huelva\", \"Latitude\": 37.2575874, \"Longitude\": -6.948494500000001}, {\"Provincia\": \"salamanca\", \"Latitude\": 40.96515720000001, \"Longitude\": -5.6640182}, {\"Provincia\": \"badajoz\", \"Latitude\": 38.8780585, \"Longitude\": -6.970204799999999}, {\"Provincia\": \"castellon\", \"Latitude\": 40.25185675, \"Longitude\": -0.06150511010574825}, {\"Provincia\": \"cadiz\", \"Latitude\": 36.5298292, \"Longitude\": -6.292567900000001}, {\"Provincia\": \"granada\", \"Latitude\": 37.183054, \"Longitude\": -3.6021928}, {\"Provincia\": \"murcia\", \"Latitude\": 37.9923795, \"Longitude\": -1.1305431000000001}, {\"Provincia\": \"asturias\", \"Latitude\": 43.2710211, \"Longitude\": -5.8539063002135885}, {\"Provincia\": \"cantabria\", \"Latitude\": 43.135837, \"Longitude\": -4.263632678146835}, {\"Provincia\": \"vizcaya\", \"Latitude\": 43.23848200000001, \"Longitude\": -2.8516316399948196}, {\"Provincia\": \"lugo\", \"Latitude\": 43.0462247, \"Longitude\": -7.4739921}, {\"Provincia\": \"girona\", \"Latitude\": 41.9793006, \"Longitude\": 2.8199438999999997}, {\"Provincia\": \"guipuzcoa\", \"Latitude\": 43.14452780000001, \"Longitude\": -2.2037955488327494}, {\"Provincia\": \"cuenca\", \"Latitude\": 40.0681156, \"Longitude\": -2.1348241000000003}, {\"Provincia\": \"malaga\", \"Latitude\": 36.7213028, \"Longitude\": -4.421636599999999}, {\"Provincia\": \"zaragoza\", \"Latitude\": 41.6521342, \"Longitude\": -0.8809428}, {\"Provincia\": \"valladolid\", \"Latitude\": 41.6521328, \"Longitude\": -4.728562}, {\"Provincia\": \"toledo\", \"Latitude\": 39.8560679, \"Longitude\": -4.0239568}, {\"Provincia\": \"ourense\", \"Latitude\": 42.1968459, \"Longitude\": -7.6114105}, {\"Provincia\": \"huesca\", \"Latitude\": 42.13606145, \"Longitude\": -0.02980266271916548}, {\"Provincia\": \"segovia\", \"Latitude\": 40.950215899999996, \"Longitude\": -4.1241494}, {\"Provincia\": \"zamora\", \"Latitude\": 41.6857693, \"Longitude\": -5.942315018340977}, {\"Provincia\": \"teruel\", \"Latitude\": 40.600551200000005, \"Longitude\": -0.9229451145789176}, {\"Provincia\": \"soria\", \"Latitude\": 41.60125045, \"Longitude\": -2.7219380354499543}, {\"Provincia\": \"guadalajara\", \"Latitude\": 40.7399963, \"Longitude\": -2.505930025884726}, {\"Provincia\": \"melilla\", \"Latitude\": 35.2918698, \"Longitude\": -2.9409026000000003}, {\"Provincia\": \"ceuta\", \"Latitude\": 35.880010399999996, \"Longitude\": -5.3180669}]}}, {\"mode\": \"vega-lite\"});\n",
       "</script>"
      ],
      "text/plain": [
       "alt.Chart(...)"
      ]
     },
     "execution_count": 6,
     "metadata": {},
     "output_type": "execute_result"
    }
   ],
   "source": [
    "alt.Chart(provincias_loc).mark_circle().encode(\n",
    "    longitude='Longitude:Q',\n",
    "    latitude='Latitude:Q',\n",
    "    #color='leading digit:N',\n",
    "    tooltip='Provincia:N'\n",
    ")"
   ]
  },
  {
   "cell_type": "code",
   "execution_count": 7,
   "metadata": {},
   "outputs": [],
   "source": [
    "train = pd.merge(train, provincias_loc, on='Provincia', how='left')\n",
    "test  = pd.merge(test,  provincias_loc, on='Provincia', how='left')"
   ]
  },
  {
   "cell_type": "code",
   "execution_count": 8,
   "metadata": {},
   "outputs": [
    {
     "data": {
      "text/html": [
       "<div>\n",
       "<style scoped>\n",
       "    .dataframe tbody tr th:only-of-type {\n",
       "        vertical-align: middle;\n",
       "    }\n",
       "\n",
       "    .dataframe tbody tr th {\n",
       "        vertical-align: top;\n",
       "    }\n",
       "\n",
       "    .dataframe thead th {\n",
       "        text-align: right;\n",
       "    }\n",
       "</style>\n",
       "<table border=\"1\" class=\"dataframe\">\n",
       "  <thead>\n",
       "    <tr style=\"text-align: right;\">\n",
       "      <th></th>\n",
       "      <th>Marca</th>\n",
       "      <th>Modelo</th>\n",
       "      <th>Tiempo</th>\n",
       "      <th>Provincia</th>\n",
       "      <th>Localidad</th>\n",
       "      <th>Año</th>\n",
       "      <th>Kms</th>\n",
       "      <th>Cambio</th>\n",
       "      <th>Cv</th>\n",
       "      <th>Combust</th>\n",
       "      <th>Puertas</th>\n",
       "      <th>Vendedor</th>\n",
       "      <th>Precio</th>\n",
       "      <th>Latitude</th>\n",
       "      <th>Longitude</th>\n",
       "    </tr>\n",
       "  </thead>\n",
       "  <tbody>\n",
       "    <tr>\n",
       "      <th>0</th>\n",
       "      <td>OPEL</td>\n",
       "      <td>VECTRA</td>\n",
       "      <td>33 días</td>\n",
       "      <td>la_rioja</td>\n",
       "      <td>Arnedo</td>\n",
       "      <td>2005.0</td>\n",
       "      <td>200000.0</td>\n",
       "      <td>manual</td>\n",
       "      <td>120.0</td>\n",
       "      <td>diesel</td>\n",
       "      <td>5.0</td>\n",
       "      <td>Profesional</td>\n",
       "      <td>2200</td>\n",
       "      <td>42.328553</td>\n",
       "      <td>-2.467492</td>\n",
       "    </tr>\n",
       "    <tr>\n",
       "      <th>1</th>\n",
       "      <td>NISSAN</td>\n",
       "      <td>PRIMERA</td>\n",
       "      <td>43 horas</td>\n",
       "      <td>aragon</td>\n",
       "      <td>Teruel</td>\n",
       "      <td>2008.0</td>\n",
       "      <td>400000.0</td>\n",
       "      <td>manual</td>\n",
       "      <td>100.0</td>\n",
       "      <td>diesel</td>\n",
       "      <td>4.0</td>\n",
       "      <td>Particular</td>\n",
       "      <td>3500</td>\n",
       "      <td>41.378729</td>\n",
       "      <td>-0.763937</td>\n",
       "    </tr>\n",
       "    <tr>\n",
       "      <th>2</th>\n",
       "      <td>RENAULT</td>\n",
       "      <td>CLIO BUSINESS DCI 75 ECO2</td>\n",
       "      <td>14 horas</td>\n",
       "      <td>sevilla</td>\n",
       "      <td>Camas</td>\n",
       "      <td>2014.0</td>\n",
       "      <td>53565.0</td>\n",
       "      <td>manual</td>\n",
       "      <td>75.0</td>\n",
       "      <td>diesel</td>\n",
       "      <td>5.0</td>\n",
       "      <td>Profesional</td>\n",
       "      <td>8200</td>\n",
       "      <td>37.388630</td>\n",
       "      <td>-5.995340</td>\n",
       "    </tr>\n",
       "  </tbody>\n",
       "</table>\n",
       "</div>"
      ],
      "text/plain": [
       "     Marca                     Modelo    Tiempo Provincia Localidad     Año       Kms  Cambio     Cv Combust  Puertas     Vendedor  Precio   Latitude  Longitude\n",
       "0     OPEL                     VECTRA   33 días  la_rioja    Arnedo  2005.0  200000.0  manual  120.0  diesel      5.0  Profesional    2200  42.328553  -2.467492\n",
       "1   NISSAN                    PRIMERA  43 horas    aragon    Teruel  2008.0  400000.0  manual  100.0  diesel      4.0   Particular    3500  41.378729  -0.763937\n",
       "2  RENAULT  CLIO BUSINESS DCI 75 ECO2  14 horas   sevilla     Camas  2014.0   53565.0  manual   75.0  diesel      5.0  Profesional    8200  37.388630  -5.995340"
      ]
     },
     "execution_count": 8,
     "metadata": {},
     "output_type": "execute_result"
    }
   ],
   "source": [
    "train.head(3)"
   ]
  },
  {
   "cell_type": "markdown",
   "metadata": {},
   "source": [
    "# Feature engeniring: Modelo padre"
   ]
  },
  {
   "cell_type": "code",
   "execution_count": 4,
   "metadata": {},
   "outputs": [],
   "source": [
    "def getMotorLitros(modelo):\n",
    "    if \". \" in modelo:\n",
    "        idx   = modelo.index(\". \")\n",
    "        left  = modelo[idx-1:idx]\n",
    "        right = modelo[idx+2:idx+3]\n",
    "        if left.isnumeric() and right.isnumeric():\n",
    "            return left+\".\"+right\n",
    "        else:\n",
    "            return None        \n",
    "    else:\n",
    "        return None\n",
    "\n",
    "train['Motor_litros'] = train['Modelo'].apply(getMotorLitros)\n",
    "test['Motor_litros']  = test['Modelo'].apply(getMotorLitros)"
   ]
  },
  {
   "cell_type": "code",
   "execution_count": 5,
   "metadata": {},
   "outputs": [],
   "source": [
    "train[\"Modelo_1st\"] = train.Modelo.str.split().str.get(0)\n",
    "test[\"Modelo_1st\"]  = test.Modelo.str.split().str.get(0)"
   ]
  },
  {
   "cell_type": "code",
   "execution_count": 6,
   "metadata": {},
   "outputs": [
    {
     "data": {
      "text/plain": [
       "(59684, 590)"
      ]
     },
     "execution_count": 6,
     "metadata": {},
     "output_type": "execute_result"
    }
   ],
   "source": [
    "modelosPadre = []\n",
    "\n",
    "def estaEnLosModelosPadre(nuevoModelo):\n",
    "    for modeloPadre in modelosPadre:\n",
    "        if modeloPadre in nuevoModelo:\n",
    "            return True\n",
    "    return False\n",
    "\n",
    "modelos = pd.concat([train.Modelo, test.Modelo]).value_counts().index.tolist()\n",
    "for m in modelos:\n",
    "    if not estaEnLosModelosPadre(m):\n",
    "        modelosPadre.append(m)\n",
    "\n",
    "\n",
    "len(modelos), len(modelosPadre)"
   ]
  },
  {
   "cell_type": "code",
   "execution_count": 7,
   "metadata": {},
   "outputs": [],
   "source": [
    "def modeloPadre(Modelo):\n",
    "    for modeloPadre in modelosPadre:\n",
    "        if modeloPadre in Modelo:\n",
    "            return modeloPadre\n",
    "        \n",
    "train[\"Modelo_padre\"] = train[\"Modelo\"].apply(modeloPadre)\n",
    "test[\"Modelo_padre\"]  = test[\"Modelo\"].apply(modeloPadre)"
   ]
  },
  {
   "cell_type": "code",
   "execution_count": 9,
   "metadata": {},
   "outputs": [
    {
     "data": {
      "text/html": [
       "<div>\n",
       "<style scoped>\n",
       "    .dataframe tbody tr th:only-of-type {\n",
       "        vertical-align: middle;\n",
       "    }\n",
       "\n",
       "    .dataframe tbody tr th {\n",
       "        vertical-align: top;\n",
       "    }\n",
       "\n",
       "    .dataframe thead th {\n",
       "        text-align: right;\n",
       "    }\n",
       "</style>\n",
       "<table border=\"1\" class=\"dataframe\">\n",
       "  <thead>\n",
       "    <tr style=\"text-align: right;\">\n",
       "      <th></th>\n",
       "      <th>Marca</th>\n",
       "      <th>Modelo_padre</th>\n",
       "      <th>Modelo_1st</th>\n",
       "      <th>Motor_litros</th>\n",
       "      <th>Modelo</th>\n",
       "    </tr>\n",
       "    <tr>\n",
       "      <th>Id</th>\n",
       "      <th></th>\n",
       "      <th></th>\n",
       "      <th></th>\n",
       "      <th></th>\n",
       "      <th></th>\n",
       "    </tr>\n",
       "  </thead>\n",
       "  <tbody>\n",
       "    <tr>\n",
       "      <th>56059</th>\n",
       "      <td>MERCEDES-BENZ</td>\n",
       "      <td>CLASE_C</td>\n",
       "      <td>CLASE_C</td>\n",
       "      <td>None</td>\n",
       "      <td>CLASE_C C 200 CDI CLASSIC FAMILIAR</td>\n",
       "    </tr>\n",
       "    <tr>\n",
       "      <th>16679</th>\n",
       "      <td>OPEL</td>\n",
       "      <td>ASTRA</td>\n",
       "      <td>ASTRA</td>\n",
       "      <td>1.4</td>\n",
       "      <td>ASTRA 1. 4 TURBO 92KW 125CV DYNAMIC</td>\n",
       "    </tr>\n",
       "    <tr>\n",
       "      <th>152529</th>\n",
       "      <td>MERCEDES-BENZ</td>\n",
       "      <td>CLASE_C</td>\n",
       "      <td>CLASE_C</td>\n",
       "      <td>None</td>\n",
       "      <td>CLASE_C C COUPE 220 D 4MATIC</td>\n",
       "    </tr>\n",
       "    <tr>\n",
       "      <th>55432</th>\n",
       "      <td>PORSCHE</td>\n",
       "      <td>COUPE</td>\n",
       "      <td>911</td>\n",
       "      <td>None</td>\n",
       "      <td>911 CARRERA S COUPE 355CV 997</td>\n",
       "    </tr>\n",
       "    <tr>\n",
       "      <th>29934</th>\n",
       "      <td>RENAULT</td>\n",
       "      <td>CAPTUR</td>\n",
       "      <td>CAPTUR</td>\n",
       "      <td>None</td>\n",
       "      <td>CAPTUR ZEN ENERGY TCE 87KW 120CV EDC</td>\n",
       "    </tr>\n",
       "    <tr>\n",
       "      <th>144346</th>\n",
       "      <td>AUDI</td>\n",
       "      <td>A4</td>\n",
       "      <td>A4</td>\n",
       "      <td>None</td>\n",
       "      <td>A4 AVANT S LINE 35 TDI 110KW S TRONIC</td>\n",
       "    </tr>\n",
       "    <tr>\n",
       "      <th>152300</th>\n",
       "      <td>FIAT</td>\n",
       "      <td>500</td>\n",
       "      <td>500X</td>\n",
       "      <td>1.3</td>\n",
       "      <td>500X POP STAR 1. 3 MJET 70KW 95CV 4X2</td>\n",
       "    </tr>\n",
       "    <tr>\n",
       "      <th>77393</th>\n",
       "      <td>HYUNDAI</td>\n",
       "      <td>ATOS</td>\n",
       "      <td>ATOS</td>\n",
       "      <td>1.0</td>\n",
       "      <td>ATOS 1. 0I GLS</td>\n",
       "    </tr>\n",
       "    <tr>\n",
       "      <th>66431</th>\n",
       "      <td>BMW</td>\n",
       "      <td>SERIE_5</td>\n",
       "      <td>SERIE_5</td>\n",
       "      <td>None</td>\n",
       "      <td>SERIE_5</td>\n",
       "    </tr>\n",
       "    <tr>\n",
       "      <th>132546</th>\n",
       "      <td>MERCEDES-BENZ</td>\n",
       "      <td>CLASE_A</td>\n",
       "      <td>CLASE_A</td>\n",
       "      <td>None</td>\n",
       "      <td>CLASE_A</td>\n",
       "    </tr>\n",
       "  </tbody>\n",
       "</table>\n",
       "</div>"
      ],
      "text/plain": [
       "                Marca Modelo_padre Modelo_1st Motor_litros                                 Modelo\n",
       "Id                                                                                               \n",
       "56059   MERCEDES-BENZ      CLASE_C    CLASE_C         None     CLASE_C C 200 CDI CLASSIC FAMILIAR\n",
       "16679            OPEL        ASTRA      ASTRA          1.4    ASTRA 1. 4 TURBO 92KW 125CV DYNAMIC\n",
       "152529  MERCEDES-BENZ      CLASE_C    CLASE_C         None           CLASE_C C COUPE 220 D 4MATIC\n",
       "55432         PORSCHE        COUPE        911         None          911 CARRERA S COUPE 355CV 997\n",
       "29934         RENAULT       CAPTUR     CAPTUR         None   CAPTUR ZEN ENERGY TCE 87KW 120CV EDC\n",
       "144346           AUDI           A4         A4         None  A4 AVANT S LINE 35 TDI 110KW S TRONIC\n",
       "152300           FIAT          500       500X          1.3  500X POP STAR 1. 3 MJET 70KW 95CV 4X2\n",
       "77393         HYUNDAI         ATOS       ATOS          1.0                         ATOS 1. 0I GLS\n",
       "66431             BMW      SERIE_5    SERIE_5         None                                SERIE_5\n",
       "132546  MERCEDES-BENZ      CLASE_A    CLASE_A         None                                CLASE_A"
      ]
     },
     "execution_count": 9,
     "metadata": {},
     "output_type": "execute_result"
    }
   ],
   "source": [
    "train[[\"Marca\", \"Modelo_padre\", \"Modelo_1st\", \"Motor_litros\", \"Modelo\"]].sample(10)"
   ]
  },
  {
   "cell_type": "markdown",
   "metadata": {},
   "source": [
    "# Feature engeniring: Tiempo -> Pasar todo a días:\n",
    "Tipos de Tiempo\n",
    "- 688 días\n",
    "- 2 horas\n",
    "- 33 min\n",
    "- 54 seg\n",
    "- nuevo anuncio\n",
    "- destacado"
   ]
  },
  {
   "cell_type": "code",
   "execution_count": 14,
   "metadata": {},
   "outputs": [
    {
     "data": {
      "text/plain": [
       "True"
      ]
     },
     "execution_count": 14,
     "metadata": {},
     "output_type": "execute_result"
    }
   ],
   "source": [
    "# Do some checking\n",
    "filter_dias  = train[\"Tiempo\"].str.endswith('días')\n",
    "filter_hora  = train[\"Tiempo\"].str.endswith('hora')\n",
    "filter_horas = train[\"Tiempo\"].str.endswith('horas')\n",
    "filter_min   = train[\"Tiempo\"].str.endswith('min')\n",
    "filter_seg   = train[\"Tiempo\"].str.endswith('seg')\n",
    "filter_nuevo = train[\"Tiempo\"].str.endswith('nuevo anuncio')\n",
    "filter_dest  = train[\"Tiempo\"].str.endswith('destacado')\n",
    "\n",
    "len(train) == len(train[filter_dias])  + \\\n",
    "len(train[filter_hora])  + len(train[filter_horas]) + \\\n",
    "len(train[filter_min])   + len(train[filter_seg])  + \\\n",
    "len(train[filter_nuevo]) + len(train[filter_dest])"
   ]
  },
  {
   "cell_type": "code",
   "execution_count": 15,
   "metadata": {},
   "outputs": [],
   "source": [
    "def tranform2type(Tiempo):\n",
    "    if   Tiempo.endswith('días'):  return 'dias'\n",
    "    elif Tiempo.endswith('horas'): return 'horas'\n",
    "    elif Tiempo.endswith('hora'):  return 'hora'\n",
    "    elif Tiempo.endswith('min'):   return 'min'\n",
    "    elif Tiempo.endswith('seg'):   return 'seg'\n",
    "    elif Tiempo.endswith('nuevo anuncio'):  return 'nuevo anuncio'\n",
    "    elif Tiempo.endswith('destacado'):      return 'destacado'\n",
    "\n",
    "    \n",
    "def tranform2dias(Tiempo):\n",
    "    if   Tiempo.endswith('días'):  return int(Tiempo.replace(' días', ''))\n",
    "    elif Tiempo.endswith('horas'): return int(Tiempo.replace(' horas', ''))/24\n",
    "    elif Tiempo.endswith('hora'):  return int(Tiempo.replace(' hora', ''))/24\n",
    "    elif Tiempo.endswith('min'):   return int(Tiempo.replace(' min', ''))/(60*24)\n",
    "    elif Tiempo.endswith('seg'):   return int(Tiempo.replace(' seg', ''))/(60*60*24)\n",
    "    elif Tiempo.endswith('nuevo anuncio'):  return 0\n",
    "    elif Tiempo.endswith('destacado'):      return -1\n",
    "\n",
    "train[\"Tiempo_días\"] = train[\"Tiempo\"].apply(tranform2dias) # Variable numerica\n",
    "train[\"Tiempo_tipo\"] = train[\"Tiempo\"].apply(tranform2type) # Variable categorica\n",
    "\n",
    "test[\"Tiempo_días\"] = test[\"Tiempo\"].apply(tranform2dias) # Variable numerica\n",
    "test[\"Tiempo_tipo\"] = test[\"Tiempo\"].apply(tranform2type) # Variable categorica"
   ]
  },
  {
   "cell_type": "code",
   "execution_count": 16,
   "metadata": {},
   "outputs": [
    {
     "data": {
      "text/html": [
       "<div>\n",
       "<style scoped>\n",
       "    .dataframe tbody tr th:only-of-type {\n",
       "        vertical-align: middle;\n",
       "    }\n",
       "\n",
       "    .dataframe tbody tr th {\n",
       "        vertical-align: top;\n",
       "    }\n",
       "\n",
       "    .dataframe thead th {\n",
       "        text-align: right;\n",
       "    }\n",
       "</style>\n",
       "<table border=\"1\" class=\"dataframe\">\n",
       "  <thead>\n",
       "    <tr style=\"text-align: right;\">\n",
       "      <th></th>\n",
       "      <th>Tiempo</th>\n",
       "      <th>Tiempo_días</th>\n",
       "      <th>Tiempo_tipo</th>\n",
       "    </tr>\n",
       "  </thead>\n",
       "  <tbody>\n",
       "    <tr>\n",
       "      <th>0</th>\n",
       "      <td>33 días</td>\n",
       "      <td>33.000000</td>\n",
       "      <td>dias</td>\n",
       "    </tr>\n",
       "    <tr>\n",
       "      <th>1</th>\n",
       "      <td>43 horas</td>\n",
       "      <td>1.791667</td>\n",
       "      <td>horas</td>\n",
       "    </tr>\n",
       "    <tr>\n",
       "      <th>2</th>\n",
       "      <td>14 horas</td>\n",
       "      <td>0.583333</td>\n",
       "      <td>horas</td>\n",
       "    </tr>\n",
       "    <tr>\n",
       "      <th>3</th>\n",
       "      <td>1 hora</td>\n",
       "      <td>0.041667</td>\n",
       "      <td>hora</td>\n",
       "    </tr>\n",
       "    <tr>\n",
       "      <th>4</th>\n",
       "      <td>45 días</td>\n",
       "      <td>45.000000</td>\n",
       "      <td>dias</td>\n",
       "    </tr>\n",
       "  </tbody>\n",
       "</table>\n",
       "</div>"
      ],
      "text/plain": [
       "     Tiempo  Tiempo_días Tiempo_tipo\n",
       "0   33 días    33.000000        dias\n",
       "1  43 horas     1.791667       horas\n",
       "2  14 horas     0.583333       horas\n",
       "3    1 hora     0.041667        hora\n",
       "4   45 días    45.000000        dias"
      ]
     },
     "execution_count": 16,
     "metadata": {},
     "output_type": "execute_result"
    }
   ],
   "source": [
    "train[[\"Tiempo\", \"Tiempo_días\", \"Tiempo_tipo\"]].head()"
   ]
  },
  {
   "cell_type": "code",
   "execution_count": 17,
   "metadata": {},
   "outputs": [
    {
     "data": {
      "text/html": [
       "<div>\n",
       "<style scoped>\n",
       "    .dataframe tbody tr th:only-of-type {\n",
       "        vertical-align: middle;\n",
       "    }\n",
       "\n",
       "    .dataframe tbody tr th {\n",
       "        vertical-align: top;\n",
       "    }\n",
       "\n",
       "    .dataframe thead th {\n",
       "        text-align: right;\n",
       "    }\n",
       "</style>\n",
       "<table border=\"1\" class=\"dataframe\">\n",
       "  <thead>\n",
       "    <tr style=\"text-align: right;\">\n",
       "      <th></th>\n",
       "      <th>Marca</th>\n",
       "      <th>Modelo</th>\n",
       "      <th>Tiempo</th>\n",
       "      <th>Provincia</th>\n",
       "      <th>Localidad</th>\n",
       "      <th>Año</th>\n",
       "      <th>Kms</th>\n",
       "      <th>Cambio</th>\n",
       "      <th>Cv</th>\n",
       "      <th>Combust</th>\n",
       "      <th>Puertas</th>\n",
       "      <th>Vendedor</th>\n",
       "      <th>Precio</th>\n",
       "      <th>Latitude</th>\n",
       "      <th>Longitude</th>\n",
       "      <th>Motor_litros</th>\n",
       "      <th>Modelo_1st</th>\n",
       "      <th>Modelo_padre</th>\n",
       "      <th>Tiempo_días</th>\n",
       "      <th>Tiempo_tipo</th>\n",
       "    </tr>\n",
       "  </thead>\n",
       "  <tbody>\n",
       "    <tr>\n",
       "      <th>85358</th>\n",
       "      <td>OPEL</td>\n",
       "      <td>CORSA-E</td>\n",
       "      <td>24 horas</td>\n",
       "      <td>cadiz</td>\n",
       "      <td>Puerto Real</td>\n",
       "      <td>2002.0</td>\n",
       "      <td>65000.0</td>\n",
       "      <td>manual</td>\n",
       "      <td>59.0</td>\n",
       "      <td>gasolina</td>\n",
       "      <td>5.0</td>\n",
       "      <td>Profesional</td>\n",
       "      <td>1550</td>\n",
       "      <td>36.529829</td>\n",
       "      <td>-6.292568</td>\n",
       "      <td>None</td>\n",
       "      <td>CORSA-E</td>\n",
       "      <td>CORSA</td>\n",
       "      <td>1.0</td>\n",
       "      <td>horas</td>\n",
       "    </tr>\n",
       "    <tr>\n",
       "      <th>144478</th>\n",
       "      <td>MERCEDES-BENZ</td>\n",
       "      <td>E 350 BLUEFICENCI</td>\n",
       "      <td>3 días</td>\n",
       "      <td>leon</td>\n",
       "      <td>Ponferrada</td>\n",
       "      <td>2011.0</td>\n",
       "      <td>120000.0</td>\n",
       "      <td>automat</td>\n",
       "      <td>236.0</td>\n",
       "      <td>diesel</td>\n",
       "      <td>4.0</td>\n",
       "      <td>Profesional</td>\n",
       "      <td>18999</td>\n",
       "      <td>42.634145</td>\n",
       "      <td>-5.971415</td>\n",
       "      <td>None</td>\n",
       "      <td>E</td>\n",
       "      <td>3</td>\n",
       "      <td>3.0</td>\n",
       "      <td>dias</td>\n",
       "    </tr>\n",
       "    <tr>\n",
       "      <th>46030</th>\n",
       "      <td>KIA</td>\n",
       "      <td>CARNIVAL 2. 9 CRDI 6 PLAZAS</td>\n",
       "      <td>9 días</td>\n",
       "      <td>leon</td>\n",
       "      <td>Benavente</td>\n",
       "      <td>2004.0</td>\n",
       "      <td>259000.0</td>\n",
       "      <td>manual</td>\n",
       "      <td>143.0</td>\n",
       "      <td>diesel</td>\n",
       "      <td>5.0</td>\n",
       "      <td>Profesional</td>\n",
       "      <td>1800</td>\n",
       "      <td>42.634145</td>\n",
       "      <td>-5.971415</td>\n",
       "      <td>2.9</td>\n",
       "      <td>CARNIVAL</td>\n",
       "      <td>CARNIVAL</td>\n",
       "      <td>9.0</td>\n",
       "      <td>dias</td>\n",
       "    </tr>\n",
       "  </tbody>\n",
       "</table>\n",
       "</div>"
      ],
      "text/plain": [
       "                Marca                       Modelo    Tiempo Provincia    Localidad     Año       Kms   Cambio     Cv   Combust  Puertas     Vendedor  Precio   Latitude  Longitude Motor_litros Modelo_1st Modelo_padre  Tiempo_días Tiempo_tipo\n",
       "85358            OPEL                      CORSA-E  24 horas     cadiz  Puerto Real  2002.0   65000.0   manual   59.0  gasolina      5.0  Profesional    1550  36.529829  -6.292568         None    CORSA-E        CORSA          1.0       horas\n",
       "144478  MERCEDES-BENZ            E 350 BLUEFICENCI    3 días      leon   Ponferrada  2011.0  120000.0  automat  236.0    diesel      4.0  Profesional   18999  42.634145  -5.971415         None          E            3          3.0        dias\n",
       "46030             KIA  CARNIVAL 2. 9 CRDI 6 PLAZAS    9 días      leon    Benavente  2004.0  259000.0   manual  143.0    diesel      5.0  Profesional    1800  42.634145  -5.971415          2.9   CARNIVAL     CARNIVAL          9.0        dias"
      ]
     },
     "execution_count": 17,
     "metadata": {},
     "output_type": "execute_result"
    }
   ],
   "source": [
    "train.sample(3)"
   ]
  },
  {
   "cell_type": "markdown",
   "metadata": {},
   "source": [
    "# Rename to ascii colum names"
   ]
  },
  {
   "cell_type": "code",
   "execution_count": 18,
   "metadata": {},
   "outputs": [],
   "source": [
    "train.rename(columns={'Año':         'Ano'},         inplace=True)\n",
    "train.rename(columns={'Año_missing': 'Ano_missing'}, inplace=True)\n",
    "train.rename(columns={'Tiempo_días': 'Tiempo_dias'}, inplace=True)\n",
    "\n",
    "test.rename(columns={'Año':         'Ano'},         inplace=True)\n",
    "test.rename(columns={'Año_missing': 'Ano_missing'}, inplace=True)\n",
    "test.rename(columns={'Tiempo_días': 'Tiempo_dias'}, inplace=True)"
   ]
  },
  {
   "cell_type": "markdown",
   "metadata": {},
   "source": [
    "# Save data"
   ]
  },
  {
   "cell_type": "code",
   "execution_count": 19,
   "metadata": {},
   "outputs": [],
   "source": [
    "train.to_csv(\"data/train_featEng.csv\", index_label=\"Id\")"
   ]
  },
  {
   "cell_type": "code",
   "execution_count": 20,
   "metadata": {},
   "outputs": [],
   "source": [
    "test.to_csv(\"data/test_featEng.csv\", index_label=\"Id\")"
   ]
  },
  {
   "cell_type": "code",
   "execution_count": 20,
   "metadata": {},
   "outputs": [
    {
     "data": {
      "text/plain": [
       "<matplotlib.axes._subplots.AxesSubplot at 0x7fc5a0f319a0>"
      ]
     },
     "execution_count": 20,
     "metadata": {},
     "output_type": "execute_result"
    },
    {
     "data": {
      "image/png": "[encoded data removed]",
      "text/plain": [
       "<Figure size 1728x720 with 3 Axes>"
      ]
     },
     "metadata": {
      "needs_background": "light"
     },
     "output_type": "display_data"
    }
   ],
   "source": [
    "msno.bar(train)"
   ]
  },
  {
   "cell_type": "code",
   "execution_count": null,
   "metadata": {},
   "outputs": [],
   "source": []
  }
 ],
 "metadata": {
  "kernelspec": {
   "display_name": "Python 3",
   "language": "python",
   "name": "python3"
  },
  "language_info": {
   "codemirror_mode": {
    "name": "ipython",
    "version": 3
   },
   "file_extension": ".py",
   "mimetype": "text/x-python",
   "name": "python",
   "nbconvert_exporter": "python",
   "pygments_lexer": "ipython3",
   "version": "3.7.3"
  }
 },
 "nbformat": 4,
 "nbformat_minor": 2
}
