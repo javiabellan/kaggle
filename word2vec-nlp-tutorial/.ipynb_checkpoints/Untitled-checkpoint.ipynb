{
 "cells": [
  {
   "cell_type": "code",
   "execution_count": 3,
   "metadata": {},
   "outputs": [],
   "source": [
    "import numpy as np\n",
    "import pandas as pd\n",
    "\n",
    "from hyperopt import hp\n",
    "import hyperopt.pyll.stochastic\n",
    "from hyperopt.pyll.base import scope"
   ]
  },
  {
   "cell_type": "code",
   "execution_count": 25,
   "metadata": {},
   "outputs": [],
   "source": [
    "def uniform_int(name, min, max):\n",
    "    return scope.int(hp.quniform(name, min, max, 1))\n",
    "\n",
    "def uniform_float(name, min, max):\n",
    "    return hp.uniform(name, min, max)\n",
    "\n",
    "def log_int(name, min, max):\n",
    "    assert(min>0)\n",
    "    return scope.int(hp.qloguniform(name, np.log(min), np.log(max), 1))\n",
    "\n",
    "def log_float(name, min, max):\n",
    "    assert(min>0)\n",
    "    return hp.loguniform(name, np.log(min), np.log(max))"
   ]
  },
  {
   "cell_type": "code",
   "execution_count": 23,
   "metadata": {},
   "outputs": [
    {
     "data": {
      "image/png": "[encoded data removed]",
      "text/plain": [
       "<Figure size 432x288 with 1 Axes>"
      ]
     },
     "metadata": {
      "needs_background": "light"
     },
     "output_type": "display_data"
    }
   ],
   "source": [
    "values = []\n",
    "space = uniform_float(\"name\", 0, 10)\n",
    "\n",
    "for x in range(1000):\n",
    "    values.append(hyperopt.pyll.stochastic.sample(space))\n",
    "\n",
    "pd.DataFrame(values, columns=[\"uniform_float\"]).hist(bins=100);"
   ]
  },
  {
   "cell_type": "code",
   "execution_count": 22,
   "metadata": {},
   "outputs": [
    {
     "data": {
      "image/png": "[encoded data removed]",
      "text/plain": [
       "<Figure size 432x288 with 1 Axes>"
      ]
     },
     "metadata": {
      "needs_background": "light"
     },
     "output_type": "display_data"
    }
   ],
   "source": [
    "values = []\n",
    "space = uniform_int(\"name\", 0, 10)\n",
    "\n",
    "for x in range(1000):\n",
    "    values.append(hyperopt.pyll.stochastic.sample(space))\n",
    "\n",
    "pd.DataFrame(values, columns=[\"uniform_int\"]).hist(bins=100);"
   ]
  },
  {
   "cell_type": "code",
   "execution_count": 27,
   "metadata": {},
   "outputs": [
    {
     "data": {
      "image/png": "[encoded data removed]",
      "text/plain": [
       "<Figure size 432x288 with 1 Axes>"
      ]
     },
     "metadata": {
      "needs_background": "light"
     },
     "output_type": "display_data"
    }
   ],
   "source": [
    "values = []\n",
    "space = log_float(\"name\", 1, 10)\n",
    "\n",
    "for x in range(1000):\n",
    "    values.append(hyperopt.pyll.stochastic.sample(space))\n",
    "\n",
    "pd.DataFrame(values, columns=[\"log_float\"]).hist(bins=100);"
   ]
  },
  {
   "cell_type": "code",
   "execution_count": 387,
   "metadata": {},
   "outputs": [
    {
     "data": {
      "text/plain": [
       "[0.039210459361500805,\n",
       " 0.006204629812389076,\n",
       " 0.046808969335267944,\n",
       " 0.007150345055848393,\n",
       " 0.0055846504990568055,\n",
       " 0.007355816787052717,\n",
       " 0.0014200694838201208,\n",
       " 0.006914519374336483,\n",
       " 0.032556025686377034,\n",
       " 0.03024161446810417]"
      ]
     },
     "execution_count": 387,
     "metadata": {},
     "output_type": "execute_result"
    }
   ],
   "source": [
    "from hyperopt import pyll, hp\n",
    "n_samples = 10\n",
    "\n",
    "space = hp.loguniform('x', np.log(0.001), np.log(0.1))\n",
    "evaluated = [pyll.stochastic.sample(space) for _ in range(n_samples)]\n",
    "evaluated"
   ]
  },
  {
   "cell_type": "code",
   "execution_count": 329,
   "metadata": {},
   "outputs": [
    {
     "name": "stdout",
     "output_type": "stream",
     "text": [
      "1.0\n"
     ]
    }
   ],
   "source": [
    "a = hp.quniform(\"a\", np.log(0), 5, 1)\n",
    "\n",
    "print(hyperopt.pyll.stochastic.sample(a))"
   ]
  },
  {
   "cell_type": "code",
   "execution_count": 457,
   "metadata": {},
   "outputs": [
    {
     "name": "stdout",
     "output_type": "stream",
     "text": [
      "2\n"
     ]
    }
   ],
   "source": [
    "a = scope.int(2.7)\n",
    "\n",
    "\n",
    "print(hyperopt.pyll.stochastic.sample(a))"
   ]
  },
  {
   "cell_type": "code",
   "execution_count": 486,
   "metadata": {},
   "outputs": [
    {
     "name": "stdout",
     "output_type": "stream",
     "text": [
      "1\n"
     ]
    }
   ],
   "source": [
    "a = scope.int(hp.quniform(\"a\", 0, 3, 1))\n",
    "\n",
    "print(hyperopt.pyll.stochastic.sample(a))"
   ]
  },
  {
   "cell_type": "code",
   "execution_count": 261,
   "metadata": {},
   "outputs": [
    {
     "name": "stdout",
     "output_type": "stream",
     "text": [
      "4.0\n"
     ]
    }
   ],
   "source": [
    "space = hp.qlognormal('max_depth_int', 3, 1, 1)\n",
    "print(hyperopt.pyll.stochastic.sample(space))"
   ]
  },
  {
   "cell_type": "code",
   "execution_count": null,
   "metadata": {},
   "outputs": [],
   "source": []
  }
 ],
 "metadata": {
  "kernelspec": {
   "display_name": "Python 3",
   "language": "python",
   "name": "python3"
  },
  "language_info": {
   "codemirror_mode": {
    "name": "ipython",
    "version": 3
   },
   "file_extension": ".py",
   "mimetype": "text/x-python",
   "name": "python",
   "nbconvert_exporter": "python",
   "pygments_lexer": "ipython3",
   "version": "3.7.4"
  }
 },
 "nbformat": 4,
 "nbformat_minor": 2
}
