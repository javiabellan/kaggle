{
 "cells": [
  {
   "cell_type": "code",
   "execution_count": 1,
   "metadata": {},
   "outputs": [],
   "source": [
    "import time\n",
    "import numpy as np\n",
    "import pandas as pd\n",
    "import matplotlib.pyplot as plt\n",
    "\n",
    "from sklearn.model_selection import train_test_split, cross_val_score\n",
    "from sklearn.metrics         import f1_score, accuracy_score, balanced_accuracy_score, plot_confusion_matrix"
   ]
  },
  {
   "cell_type": "markdown",
   "metadata": {},
   "source": [
    "# Data"
   ]
  },
  {
   "cell_type": "code",
   "execution_count": 2,
   "metadata": {},
   "outputs": [
    {
     "data": {
      "text/plain": [
       "((5000000, 31), (5000000,), (2000000, 31))"
      ]
     },
     "execution_count": 2,
     "metadata": {},
     "output_type": "execute_result"
    }
   ],
   "source": [
    "y = np.load(\"data/train_y.npy\")\n",
    "x = np.c_[ np.load(\"data/scalogram30_train.npy\"), np.load(\"data/window_train.npy\")]\n",
    "t = np.c_[ np.load(\"data/scalogram30_test.npy\"),  np.load(\"data/window_test.npy\")]\n",
    "\n",
    "\n",
    "# Combine feat columns in numpy\n",
    "# https://stackoverflow.com/questions/8486294/how-to-add-an-extra-column-to-a-numpy-array\n",
    "#np.c_[ matrix, array, ... ]\n",
    "\n",
    "x.shape, y.shape, t.shape"
   ]
  },
  {
   "cell_type": "code",
   "execution_count": 3,
   "metadata": {},
   "outputs": [],
   "source": [
    "x0 = x[      0: 500000]; y0 = y[      0: 500000]\n",
    "x1 = x[ 500000:1000000]; y1 = y[ 500000:1000000]\n",
    "x2 = x[1000000:1500000]; y2 = y[1000000:1500000]\n",
    "x3 = x[1500000:2000000]; y3 = y[1500000:2000000]\n",
    "x4 = x[2000000:2500000]; y4 = y[2000000:2500000]\n",
    "x5 = x[2500000:3000000]; y5 = y[2500000:3000000]\n",
    "x6 = x[3000000:3500000]; y6 = y[3000000:3500000]\n",
    "x7 = x[3500000:4000000]; y7 = y[3500000:4000000]\n",
    "x8 = x[4000000:4500000]; y8 = y[4000000:4500000]\n",
    "x9 = x[4500000:5000000]; y9 = y[4500000:5000000]\n",
    "\n",
    "t01 = t[      0: 100000]\n",
    "t02 = t[ 100000: 200000]\n",
    "t03 = t[ 200000: 300000]\n",
    "t04 = t[ 300000: 400000]\n",
    "t05 = t[ 400000: 500000]\n",
    "t11 = t[ 500000: 600000]\n",
    "t12 = t[ 600000: 700000]\n",
    "t13 = t[ 700000: 800000]\n",
    "t14 = t[ 800000: 900000]\n",
    "t15 = t[ 900000:1000000]\n",
    "t2  = t[1000000:1500000]\n",
    "t3  = t[1500000:2000000]"
   ]
  },
  {
   "cell_type": "code",
   "execution_count": 4,
   "metadata": {},
   "outputs": [
    {
     "data": {
      "text/plain": [
       "((500000, 31), (500000,), (500000, 31), (500000,))"
      ]
     },
     "execution_count": 4,
     "metadata": {},
     "output_type": "execute_result"
    }
   ],
   "source": [
    "# train_test_split(x, y, test_size=0.1, shuffle=False)\n",
    "x_train = x4; y_train = y4\n",
    "x_valid = x9; y_valid = y9\n",
    "\n",
    "x_train.shape, y_train.shape, x_valid.shape, y_valid.shape"
   ]
  },
  {
   "cell_type": "markdown",
   "metadata": {},
   "source": [
    "## Models"
   ]
  },
  {
   "cell_type": "code",
   "execution_count": 5,
   "metadata": {},
   "outputs": [],
   "source": [
    "from sklearn.linear_model import LogisticRegression\n",
    "from lightgbm             import LGBMClassifier\n",
    "\n",
    "lin = LogisticRegression(multi_class='multinomial', n_jobs=-1)\n",
    "lgb = LGBMClassifier()"
   ]
  },
  {
   "cell_type": "markdown",
   "metadata": {},
   "source": [
    "## Train"
   ]
  },
  {
   "cell_type": "code",
   "execution_count": 6,
   "metadata": {},
   "outputs": [
    {
     "name": "stdout",
     "output_type": "stream",
     "text": [
      "CPU times: user 43.7 ms, sys: 93.2 ms, total: 137 ms\n",
      "Wall time: 47 s\n"
     ]
    },
    {
     "data": {
      "text/plain": [
       "LogisticRegression(C=1.0, class_weight=None, dual=False, fit_intercept=True,\n",
       "                   intercept_scaling=1, l1_ratio=None, max_iter=100,\n",
       "                   multi_class='multinomial', n_jobs=-1, penalty='l2',\n",
       "                   random_state=None, solver='lbfgs', tol=0.0001, verbose=0,\n",
       "                   warm_start=False)"
      ]
     },
     "execution_count": 6,
     "metadata": {},
     "output_type": "execute_result"
    }
   ],
   "source": [
    "%%time\n",
    "lin.fit(x_train, y_train)"
   ]
  },
  {
   "cell_type": "code",
   "execution_count": 6,
   "metadata": {},
   "outputs": [
    {
     "name": "stdout",
     "output_type": "stream",
     "text": [
      "CPU times: user 1min 14s, sys: 228 ms, total: 1min 14s\n",
      "Wall time: 19.4 s\n"
     ]
    },
    {
     "data": {
      "text/plain": [
       "LGBMClassifier(boosting_type='gbdt', class_weight=None, colsample_bytree=1.0,\n",
       "               importance_type='split', learning_rate=0.1, max_depth=-1,\n",
       "               min_child_samples=20, min_child_weight=0.001, min_split_gain=0.0,\n",
       "               n_estimators=100, n_jobs=-1, num_leaves=31, objective=None,\n",
       "               random_state=None, reg_alpha=0.0, reg_lambda=0.0, silent=True,\n",
       "               subsample=1.0, subsample_for_bin=200000, subsample_freq=0)"
      ]
     },
     "execution_count": 6,
     "metadata": {},
     "output_type": "execute_result"
    }
   ],
   "source": [
    "%%time\n",
    "lgb.fit(x_train, y_train)"
   ]
  },
  {
   "cell_type": "markdown",
   "metadata": {},
   "source": [
    "## Predict"
   ]
  },
  {
   "cell_type": "code",
   "execution_count": 9,
   "metadata": {},
   "outputs": [],
   "source": [
    "preds_lin = lin.predict(x_valid); probs_lin = lin.predict_proba(x_valid)\n",
    "#preds_lgb = lgb.predict(x_valid);     probs_lgb = lgb.predict_proba(x_valid)\n",
    "\n",
    "preds = preds_lin\n",
    "probs = probs_lin"
   ]
  },
  {
   "cell_type": "code",
   "execution_count": 10,
   "metadata": {},
   "outputs": [
    {
     "data": {
      "image/png": "[encoded data removed]",
      "text/plain": [
       "<Figure size 432x288 with 1 Axes>"
      ]
     },
     "metadata": {
      "needs_background": "light"
     },
     "output_type": "display_data"
    }
   ],
   "source": [
    "plt.plot(preds);"
   ]
  },
  {
   "cell_type": "code",
   "execution_count": 11,
   "metadata": {},
   "outputs": [
    {
     "data": {
      "image/png": "[encoded data removed]",
      "text/plain": [
       "<Figure size 432x288 with 1 Axes>"
      ]
     },
     "metadata": {
      "needs_background": "light"
     },
     "output_type": "display_data"
    }
   ],
   "source": [
    "plt.plot(y_valid);"
   ]
  },
  {
   "cell_type": "code",
   "execution_count": 12,
   "metadata": {},
   "outputs": [
    {
     "data": {
      "image/png": "[encoded data removed]",
      "text/plain": [
       "<Figure size 432x288 with 1 Axes>"
      ]
     },
     "metadata": {
      "needs_background": "light"
     },
     "output_type": "display_data"
    }
   ],
   "source": [
    "plt.hist([preds, y_valid], label=['preds', 'real'])\n",
    "plt.legend(loc='upper right')\n",
    "plt.show()"
   ]
  },
  {
   "cell_type": "code",
   "execution_count": 14,
   "metadata": {},
   "outputs": [
    {
     "data": {
      "image/png": "[encoded data removed]",
      "text/plain": [
       "<Figure size 432x288 with 2 Axes>"
      ]
     },
     "metadata": {
      "needs_background": "light"
     },
     "output_type": "display_data"
    }
   ],
   "source": [
    "plot_confusion_matrix(lin, x_valid, y_valid);"
   ]
  },
  {
   "cell_type": "code",
   "execution_count": 15,
   "metadata": {},
   "outputs": [
    {
     "name": "stdout",
     "output_type": "stream",
     "text": [
      "Accuracy:     0.72777\n",
      "Balanced acc: 0.4502688430179604\n",
      "F1 score:     0.4599797645366073\n"
     ]
    }
   ],
   "source": [
    "print(\"Accuracy:    \", accuracy_score(y_valid, preds))\n",
    "print(\"Balanced acc:\", balanced_accuracy_score(y_valid, preds))\n",
    "print(\"F1 score:    \", f1_score(y_valid, preds, average='macro'))"
   ]
  },
  {
   "cell_type": "markdown",
   "metadata": {},
   "source": [
    "# Obtenido en grupo 5\n",
    "(entreno con tr4 y predigo tr9)\n",
    "\n",
    "| Datos originales | Datos trans 2D   | Modelo            | Tiempo |   F1 Macro   | Accuracy | Bal. Acc. |\n",
    "|------------------|------------------|-------------------|--------|--------------|----------|-----------|\n",
    "|        -         | Scalograma de 30 | LogRegr basico    | 42.9 s |   0.251091   | 0.428094 | 0.238886  |\n",
    "|        -         | Scalograma de 30 | LightGBM basico   | 23.4 s |   0.238182   | 0.385802 | 0.257626  |\n",
    "| ventana de [1]   | Scalograma de 30 | LogRegr basico    | 47.0 s |   0.459979   | 0.727770 | 0.450268  |\n",
    "| ventana de [1]   | Scalograma de 30 | LightGBM basico   | 19.4 s | **0.624848** | 0.859116 | 0.690491  |\n",
    "| ventana de [7]   | -                | Net7              |        | **0.75..**   | 0.85     | 0.83      |\n",
    "| ventana de [7]   | -                | Net7 BatchNorm    |        | **0.849245** | 0.884408 | 0.892884  |\n",
    "\n",
    "# Objetivo\n",
    "\n",
    "| Group |   Tio 1    |  Tio 2       | Zidmie (ant)| Zidmie (4o) |\n",
    "|-------|------------|--------------|-------------|-------------|\n",
    "|   1   |   0.9973   |   0.997431   |   0.9955    | 0.9959      |\n",
    "|   2   |   0.9832   |   0.997103   |   0.9969    | 0.9969      |\n",
    "|   3   |   0.9712   |   0.984124   |   0.9858    | 0.9864      |\n",
    "|   4   |   0.9969   |   0.972676   |   0.9711    | 0.9747      |\n",
    "|   5   | **0.8676** |   0.793126   | **0.8726**  | **0.8746**  |\n",
    "| Total |            |              |             | 0.9424      |\n",
    "| LB    |            |              |             | 0.944       |\n",
    "\n",
    "- [Tio 1](https://www.kaggle.com/c/liverpool-ion-switching/discussion/140203)\n",
    "- [Tio 2](https://www.kaggle.com/c/liverpool-ion-switching/discussion/147154) "
   ]
  },
  {
   "cell_type": "code",
   "execution_count": null,
   "metadata": {},
   "outputs": [],
   "source": []
  }
 ],
 "metadata": {
  "kernelspec": {
   "display_name": "Python 3",
   "language": "python",
   "name": "python3"
  },
  "language_info": {
   "codemirror_mode": {
    "name": "ipython",
    "version": 3
   },
   "file_extension": ".py",
   "mimetype": "text/x-python",
   "name": "python",
   "nbconvert_exporter": "python",
   "pygments_lexer": "ipython3",
   "version": "3.8.2"
  }
 },
 "nbformat": 4,
 "nbformat_minor": 2
}
