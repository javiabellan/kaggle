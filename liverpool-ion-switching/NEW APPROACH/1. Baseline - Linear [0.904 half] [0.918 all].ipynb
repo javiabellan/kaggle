{
 "cells": [
  {
   "cell_type": "code",
   "execution_count": 1,
   "metadata": {},
   "outputs": [
    {
     "name": "stdout",
     "output_type": "stream",
     "text": [
      "Pytorch: 1.5.0\n",
      "Fastai2: 0.0.17\n"
     ]
    }
   ],
   "source": [
    "import numpy as np\n",
    "import pandas as pd\n",
    "import matplotlib.pyplot as plt\n",
    "from ipywidgets import interact\n",
    "from tqdm.notebook import tqdm\n",
    "from sklearn.metrics import f1_score, accuracy_score, balanced_accuracy_score, confusion_matrix\n",
    "from scipy import signal\n",
    "from scipy.fftpack import fft\n",
    "\n",
    "import torch\n",
    "import torch.nn as nn\n",
    "import torch.nn.functional as f\n",
    "\n",
    "import fastai2 \n",
    "from fastai2.data.core import DataLoaders\n",
    "from fastai2.vision.all import *\n",
    "\n",
    "print(\"Pytorch:\", torch.__version__)\n",
    "print(\"Fastai2:\", fastai2.__version__)"
   ]
  },
  {
   "cell_type": "code",
   "execution_count": 2,
   "metadata": {},
   "outputs": [],
   "source": [
    "def seed_everything(seed):\n",
    "    random.seed(seed)\n",
    "    np.random.seed(seed)\n",
    "    os.environ['PYTHONHASHSEED'] = str(seed)\n",
    "    #tf.random.set_seed(seed) # Tensorflow"
   ]
  },
  {
   "cell_type": "markdown",
   "metadata": {},
   "source": [
    "# Data"
   ]
  },
  {
   "cell_type": "code",
   "execution_count": 3,
   "metadata": {},
   "outputs": [],
   "source": [
    "train = pd.DataFrame({\"x\": np.load('data/0_x_train.npy'),\n",
    "                      \"g\": np.load(\"data/0_groups_train.npy\"),\n",
    "                      \"y\": np.load('data/0_y_train.npy')})\n",
    "                      \n",
    "test  = pd.DataFrame({\"x\": np.load('data/0_x_test.npy'),\n",
    "                      \"g\": np.load(\"data/0_groups_test.npy\"),\n",
    "                      \"y\": np.load('data/0_x_test.npy')}) # CHAPUZA para ahorrar codigo"
   ]
  },
  {
   "cell_type": "code",
   "execution_count": 4,
   "metadata": {},
   "outputs": [],
   "source": [
    "train0 = train[      0: 500000]\n",
    "train1 = train[ 500000:1000000]\n",
    "train2 = train[1000000:1500000]\n",
    "train3 = train[1500000:2000000]\n",
    "train4 = train[2000000:2500000]\n",
    "train5 = train[2500000:3000000]\n",
    "train6 = train[3000000:3500000]\n",
    "train7 = train[3500000:4000000]\n",
    "train8 = train[4000000:4500000]\n",
    "train9 = train[4500000:5000000]"
   ]
  },
  {
   "cell_type": "code",
   "execution_count": 5,
   "metadata": {},
   "outputs": [
    {
     "data": {
      "text/html": [
       "<div>\n",
       "<style scoped>\n",
       "    .dataframe tbody tr th:only-of-type {\n",
       "        vertical-align: middle;\n",
       "    }\n",
       "\n",
       "    .dataframe tbody tr th {\n",
       "        vertical-align: top;\n",
       "    }\n",
       "\n",
       "    .dataframe thead th {\n",
       "        text-align: right;\n",
       "    }\n",
       "</style>\n",
       "<table border=\"1\" class=\"dataframe\">\n",
       "  <thead>\n",
       "    <tr style=\"text-align: right;\">\n",
       "      <th></th>\n",
       "      <th>x</th>\n",
       "      <th>g</th>\n",
       "      <th>y</th>\n",
       "    </tr>\n",
       "  </thead>\n",
       "  <tbody>\n",
       "    <tr>\n",
       "      <th>0</th>\n",
       "      <td>-2.649800</td>\n",
       "      <td>0</td>\n",
       "      <td>-2.649800</td>\n",
       "    </tr>\n",
       "    <tr>\n",
       "      <th>1</th>\n",
       "      <td>-2.849432</td>\n",
       "      <td>0</td>\n",
       "      <td>-2.849432</td>\n",
       "    </tr>\n",
       "  </tbody>\n",
       "</table>\n",
       "</div>"
      ],
      "text/plain": [
       "          x  g         y\n",
       "0 -2.649800  0 -2.649800\n",
       "1 -2.849432  0 -2.849432"
      ]
     },
     "execution_count": 5,
     "metadata": {},
     "output_type": "execute_result"
    }
   ],
   "source": [
    "test.head(2)"
   ]
  },
  {
   "cell_type": "markdown",
   "metadata": {},
   "source": [
    "# DataLoader"
   ]
  },
  {
   "cell_type": "code",
   "execution_count": 6,
   "metadata": {},
   "outputs": [],
   "source": [
    "# TODO: Add data batch id\n",
    "# TODO: 2D fetaures (scalogram...)\n",
    "\n",
    "class DS(torch.utils.data.Dataset):\n",
    "    def __init__(self, df):\n",
    "        self.array_x   = df[\"x\"].values\n",
    "        self.array_g   = df[\"g\"].values\n",
    "        self.array_y   = df[\"y\"].values\n",
    "        \n",
    "    def __len__(self):\n",
    "        return len(self.array_x)\n",
    "    \n",
    "    def __getitem__(self, i):\n",
    "        value    = torch.tensor(self.array_x[i]).unsqueeze(0)\n",
    "        group    = torch.tensor(self.array_g[i],  dtype=torch.int64)\n",
    "        group_oh = F.one_hot(group, num_classes=5).float()\n",
    "        \n",
    "        x = torch.cat([value, group_oh])\n",
    "        y = torch.tensor(self.array_y[i], dtype=torch.long)\n",
    "        return (x, y)"
   ]
  },
  {
   "cell_type": "code",
   "execution_count": 7,
   "metadata": {},
   "outputs": [],
   "source": [
    "m = 10000\n",
    "#toy_train = DS(pd.concat([train0[:m], train2[:m], train7[:m], train5[:m], train4[:m]]))\n",
    "#toy_valid = DS(pd.concat([train1[:m], train6[:m], train3[:m], train8[:m], train9[:m]]))\n",
    "\n",
    "half_train = DS(pd.concat([train0, train2, train7, train5, train9]))\n",
    "half_valid = DS(pd.concat([train1, train6, train3, train8, train4]))\n",
    "all_train  = DS(train)\n",
    "\n",
    "test_ds  = DS(test)"
   ]
  },
  {
   "cell_type": "code",
   "execution_count": 8,
   "metadata": {},
   "outputs": [],
   "source": [
    "BS = 512#256\n",
    "\n",
    "dls_half = DataLoaders.from_dsets(half_train,  half_valid,  test_ds, bs=1024)#, device=torch.device(\"cuda\"))\n",
    "dls_all  = DataLoaders.from_dsets(all_train,   all_train,   test_ds, bs=1024, device=torch.device(\"cuda\"))"
   ]
  },
  {
   "cell_type": "markdown",
   "metadata": {},
   "source": [
    "# Model"
   ]
  },
  {
   "cell_type": "code",
   "execution_count": 9,
   "metadata": {},
   "outputs": [],
   "source": [
    "# TODO: ReLU , BatchNorm, Dropout\n",
    "\n",
    "class Linear(nn.Module):\n",
    "    def __init__(self):\n",
    "        super(Linear, self).__init__()\n",
    "        self.li = nn.Linear(in_features=6,  out_features=11)\n",
    "        \n",
    "    def forward(self, x): # ENTRADA 6: value=1 + onehot=5\n",
    "        return self.li(x)\n",
    "            \n",
    "linear = Linear()"
   ]
  },
  {
   "cell_type": "code",
   "execution_count": 10,
   "metadata": {},
   "outputs": [
    {
     "data": {
      "text/plain": [
       "torch.Size([11])"
      ]
     },
     "execution_count": 10,
     "metadata": {},
     "output_type": "execute_result"
    }
   ],
   "source": [
    "linear(torch.randn(6)).shape"
   ]
  },
  {
   "cell_type": "markdown",
   "metadata": {},
   "source": [
    "# Train"
   ]
  },
  {
   "cell_type": "code",
   "execution_count": 11,
   "metadata": {},
   "outputs": [],
   "source": [
    "# TODO: Weighted by class\n",
    "# TODO: Better loss for F1 macro??? Focal??\n",
    "# TODO: Adam, Radam,...\n",
    "learn = Learner(dls       = dls_all, #dls_half, dls_all\n",
    "                model     = linear,\n",
    "                loss_func = nn.CrossEntropyLoss(weight=None), # F.cross_entropy, CrossEntropyLossFlat(),\n",
    "                metrics   = [F1Score(average='macro'), accuracy],\n",
    "                cbs       = ShowGraphCallback())\n",
    "#learn.summary()"
   ]
  },
  {
   "cell_type": "code",
   "execution_count": 12,
   "metadata": {},
   "outputs": [
    {
     "data": {
      "text/html": [],
      "text/plain": [
       "<IPython.core.display.HTML object>"
      ]
     },
     "metadata": {},
     "output_type": "display_data"
    },
    {
     "data": {
      "text/plain": [
       "SuggestedLRs(lr_min=0.33113112449646, lr_steep=0.25118863582611084)"
      ]
     },
     "execution_count": 12,
     "metadata": {},
     "output_type": "execute_result"
    },
    {
     "data": {
      "image/png": "[encoded data removed]",
      "text/plain": [
       "<Figure size 432x288 with 1 Axes>"
      ]
     },
     "metadata": {
      "needs_background": "light"
     },
     "output_type": "display_data"
    }
   ],
   "source": [
    "learn.lr_find()"
   ]
  },
  {
   "cell_type": "code",
   "execution_count": 13,
   "metadata": {},
   "outputs": [
    {
     "data": {
      "text/plain": [
       "1.0"
      ]
     },
     "execution_count": 13,
     "metadata": {},
     "output_type": "execute_result"
    }
   ],
   "source": [
    "10e-1"
   ]
  },
  {
   "cell_type": "code",
   "execution_count": 13,
   "metadata": {},
   "outputs": [
    {
     "data": {
      "text/html": [
       "<table border=\"1\" class=\"dataframe\">\n",
       "  <thead>\n",
       "    <tr style=\"text-align: left;\">\n",
       "      <th>epoch</th>\n",
       "      <th>train_loss</th>\n",
       "      <th>valid_loss</th>\n",
       "      <th>f1_score</th>\n",
       "      <th>accuracy</th>\n",
       "      <th>time</th>\n",
       "    </tr>\n",
       "  </thead>\n",
       "  <tbody>\n",
       "    <tr>\n",
       "      <td>0</td>\n",
       "      <td>0.243559</td>\n",
       "      <td>0.238393</td>\n",
       "      <td>0.917232</td>\n",
       "      <td>0.956451</td>\n",
       "      <td>04:46</td>\n",
       "    </tr>\n",
       "  </tbody>\n",
       "</table>"
      ],
      "text/plain": [
       "<IPython.core.display.HTML object>"
      ]
     },
     "metadata": {},
     "output_type": "display_data"
    },
    {
     "data": {
      "image/png": "[encoded data removed]",
      "text/plain": [
       "<Figure size 432x288 with 1 Axes>"
      ]
     },
     "metadata": {},
     "output_type": "display_data"
    }
   ],
   "source": [
    "learn.fit_one_cycle(n_epoch=1, lr_max=0.1)"
   ]
  },
  {
   "cell_type": "markdown",
   "metadata": {},
   "source": [
    "# Validación"
   ]
  },
  {
   "cell_type": "code",
   "execution_count": 14,
   "metadata": {},
   "outputs": [
    {
     "data": {
      "text/html": [],
      "text/plain": [
       "<IPython.core.display.HTML object>"
      ]
     },
     "metadata": {},
     "output_type": "display_data"
    },
    {
     "data": {
      "text/plain": [
       "5000000"
      ]
     },
     "execution_count": 14,
     "metadata": {},
     "output_type": "execute_result"
    }
   ],
   "source": [
    "preds,targs = learn.get_preds()\n",
    "\n",
    "preds = torch.max(preds, 1)[1].numpy()\n",
    "len(preds)"
   ]
  },
  {
   "cell_type": "code",
   "execution_count": 15,
   "metadata": {},
   "outputs": [],
   "source": [
    "np.save('data/1_linear_preds_train.npy', preds)"
   ]
  },
  {
   "cell_type": "markdown",
   "metadata": {},
   "source": [
    "# Test"
   ]
  },
  {
   "cell_type": "code",
   "execution_count": 16,
   "metadata": {},
   "outputs": [
    {
     "name": "stderr",
     "output_type": "stream",
     "text": [
      "<ipython-input-6-82dd54d71f20>:19: DeprecationWarning: an integer is required (got type numpy.float32).  Implicit conversion to integers using __int__ is deprecated, and may be removed in a future version of Python.\n",
      "  y = torch.tensor(self.array_y[i], dtype=torch.long)\n"
     ]
    },
    {
     "data": {
      "text/html": [],
      "text/plain": [
       "<IPython.core.display.HTML object>"
      ]
     },
     "metadata": {},
     "output_type": "display_data"
    },
    {
     "data": {
      "text/plain": [
       "2000000"
      ]
     },
     "execution_count": 16,
     "metadata": {},
     "output_type": "execute_result"
    }
   ],
   "source": [
    "preds_t,targs_t = learn.get_preds(ds_idx=2)\n",
    "\n",
    "preds_t = torch.max(preds_t, 1)[1].numpy()\n",
    "len(preds_t)"
   ]
  },
  {
   "cell_type": "code",
   "execution_count": 17,
   "metadata": {},
   "outputs": [],
   "source": [
    "np.save('data/1_linear_preds_test.npy', preds_t)"
   ]
  },
  {
   "cell_type": "code",
   "execution_count": 18,
   "metadata": {},
   "outputs": [
    {
     "data": {
      "text/plain": [
       "2000000"
      ]
     },
     "execution_count": 18,
     "metadata": {},
     "output_type": "execute_result"
    }
   ],
   "source": [
    "len(preds_t)"
   ]
  },
  {
   "cell_type": "code",
   "execution_count": 19,
   "metadata": {},
   "outputs": [
    {
     "data": {
      "image/png": "[encoded data removed]",
      "text/plain": [
       "<Figure size 1296x288 with 1 Axes>"
      ]
     },
     "metadata": {
      "needs_background": "light"
     },
     "output_type": "display_data"
    }
   ],
   "source": [
    "plt.figure(figsize=(18, 4))\n",
    "plt.plot(preds_t);"
   ]
  },
  {
   "cell_type": "code",
   "execution_count": 20,
   "metadata": {},
   "outputs": [
    {
     "data": {
      "image/png": "[encoded data removed]",
      "text/plain": [
       "<Figure size 1296x288 with 1 Axes>"
      ]
     },
     "metadata": {
      "needs_background": "light"
     },
     "output_type": "display_data"
    }
   ],
   "source": [
    "plt.figure(figsize=(18, 4))\n",
    "plt.plot(preds_t);"
   ]
  },
  {
   "cell_type": "markdown",
   "metadata": {},
   "source": [
    "# <center> FIN"
   ]
  }
 ],
 "metadata": {
  "kernelspec": {
   "display_name": "Python 3",
   "language": "python",
   "name": "python3"
  },
  "language_info": {
   "codemirror_mode": {
    "name": "ipython",
    "version": 3
   },
   "file_extension": ".py",
   "mimetype": "text/x-python",
   "name": "python",
   "nbconvert_exporter": "python",
   "pygments_lexer": "ipython3",
   "version": "3.8.2"
  }
 },
 "nbformat": 4,
 "nbformat_minor": 2
}
