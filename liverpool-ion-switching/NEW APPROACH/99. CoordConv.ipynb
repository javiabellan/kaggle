{
 "cells": [
  {
   "cell_type": "code",
   "execution_count": 1,
   "metadata": {},
   "outputs": [],
   "source": [
    "import torch"
   ]
  },
  {
   "cell_type": "code",
   "execution_count": 2,
   "metadata": {},
   "outputs": [
    {
     "data": {
      "text/plain": [
       "tensor([[[1., 2., 3.],\n",
       "         [4., 5., 6.],\n",
       "         [7., 8., 9.]]])"
      ]
     },
     "execution_count": 2,
     "metadata": {},
     "output_type": "execute_result"
    }
   ],
   "source": [
    "x = torch.tensor([[1.,2,3],[4,5,6],[7,8,9]]).unsqueeze(0) # unsqueeze is for BS at dim=0\n",
    "x"
   ]
  },
  {
   "cell_type": "code",
   "execution_count": 3,
   "metadata": {},
   "outputs": [
    {
     "data": {
      "text/plain": [
       "(torch.Size([2, 3, 3]),\n",
       " tensor([[[0.3333, 0.3333, 0.3333],\n",
       "          [0.6667, 0.6667, 0.6667],\n",
       "          [1.0000, 1.0000, 1.0000]],\n",
       " \n",
       "         [[0.3333, 0.6667, 1.0000],\n",
       "          [0.3333, 0.6667, 1.0000],\n",
       "          [0.3333, 0.6667, 1.0000]]]))"
      ]
     },
     "execution_count": 3,
     "metadata": {},
     "output_type": "execute_result"
    }
   ],
   "source": [
    "len=3\n",
    "i_coord = torch.linspace(start=1/len, end=1, steps=len).view(len, -1).expand(-1, len)\n",
    "j_coord = torch.linspace(start=1/len, end=1, steps=len).view(1, len).expand(len, -1)\n",
    "coords  = torch.stack([i_coord, j_coord])\n",
    "coords.shape, coords"
   ]
  },
  {
   "cell_type": "code",
   "execution_count": 4,
   "metadata": {},
   "outputs": [
    {
     "data": {
      "text/plain": [
       "tensor([[[1.0000, 2.0000, 3.0000],\n",
       "         [4.0000, 5.0000, 6.0000],\n",
       "         [7.0000, 8.0000, 9.0000]],\n",
       "\n",
       "        [[0.3333, 0.3333, 0.3333],\n",
       "         [0.6667, 0.6667, 0.6667],\n",
       "         [1.0000, 1.0000, 1.0000]],\n",
       "\n",
       "        [[0.3333, 0.6667, 1.0000],\n",
       "         [0.3333, 0.6667, 1.0000],\n",
       "         [0.3333, 0.6667, 1.0000]]])"
      ]
     },
     "execution_count": 4,
     "metadata": {},
     "output_type": "execute_result"
    }
   ],
   "source": [
    "torch.cat((x, coords), dim=0)"
   ]
  },
  {
   "cell_type": "code",
   "execution_count": 5,
   "metadata": {},
   "outputs": [
    {
     "data": {
      "text/plain": [
       "tensor([[[[0.3333, 0.3333, 0.3333],\n",
       "          [0.6667, 0.6667, 0.6667],\n",
       "          [1.0000, 1.0000, 1.0000]],\n",
       "\n",
       "         [[0.3333, 0.6667, 1.0000],\n",
       "          [0.3333, 0.6667, 1.0000],\n",
       "          [0.3333, 0.6667, 1.0000]]],\n",
       "\n",
       "\n",
       "        [[[0.3333, 0.3333, 0.3333],\n",
       "          [0.6667, 0.6667, 0.6667],\n",
       "          [1.0000, 1.0000, 1.0000]],\n",
       "\n",
       "         [[0.3333, 0.6667, 1.0000],\n",
       "          [0.3333, 0.6667, 1.0000],\n",
       "          [0.3333, 0.6667, 1.0000]]]])"
      ]
     },
     "execution_count": 5,
     "metadata": {},
     "output_type": "execute_result"
    }
   ],
   "source": [
    "coords.expand(2,-1,-1,-1)"
   ]
  },
  {
   "cell_type": "code",
   "execution_count": 6,
   "metadata": {},
   "outputs": [
    {
     "data": {
      "text/plain": [
       "torch.Size([1, 3, 3])"
      ]
     },
     "execution_count": 6,
     "metadata": {},
     "output_type": "execute_result"
    }
   ],
   "source": [
    "x.shape"
   ]
  },
  {
   "cell_type": "code",
   "execution_count": null,
   "metadata": {},
   "outputs": [],
   "source": []
  },
  {
   "cell_type": "code",
   "execution_count": 7,
   "metadata": {},
   "outputs": [
    {
     "data": {
      "text/plain": [
       "tensor([[[1., 2., 3.],\n",
       "         [4., 5., 6.],\n",
       "         [7., 8., 9.]]])"
      ]
     },
     "execution_count": 7,
     "metadata": {},
     "output_type": "execute_result"
    }
   ],
   "source": [
    "x"
   ]
  },
  {
   "cell_type": "code",
   "execution_count": 11,
   "metadata": {},
   "outputs": [
    {
     "data": {
      "text/plain": [
       "tensor([[[[ 0.3132, -1.2751,  0.3140],\n",
       "          [-0.8071,  1.0047, -0.0824],\n",
       "          [-1.1597,  0.2384,  0.6021]],\n",
       "\n",
       "         [[-0.1609,  0.1951, -0.9957],\n",
       "          [-0.0579, -1.4935, -0.8635],\n",
       "          [-0.3646, -0.7525,  0.1695]]],\n",
       "\n",
       "\n",
       "        [[[-1.0702, -0.7219, -1.1978],\n",
       "          [ 0.7428,  0.8093, -0.7165],\n",
       "          [ 2.1106, -0.0861, -2.2430]],\n",
       "\n",
       "         [[-0.8242, -1.3410,  0.3254],\n",
       "          [ 2.3096,  0.9264, -0.8569],\n",
       "          [-0.3412, -0.0806,  1.2696]]],\n",
       "\n",
       "\n",
       "        [[[-1.5374,  1.2101,  0.2651],\n",
       "          [ 0.6887,  2.6190,  0.9181],\n",
       "          [ 0.3885,  0.9141,  1.0118]],\n",
       "\n",
       "         [[ 0.0968,  0.7336, -0.9341],\n",
       "          [-0.6265,  3.0547,  2.2440],\n",
       "          [ 1.2600, -0.7724,  0.6212]]]])"
      ]
     },
     "execution_count": 11,
     "metadata": {},
     "output_type": "execute_result"
    }
   ],
   "source": [
    "x = torch.randn(3, 2, 3, 3) # BS, C, X, Y\n",
    "x"
   ]
  },
  {
   "cell_type": "code",
   "execution_count": 12,
   "metadata": {},
   "outputs": [],
   "source": [
    "class AddCoord2D(torch.nn.Module):\n",
    "    def __init__(self, len):\n",
    "        super(AddCoord2D, self).__init__()\n",
    "        \n",
    "        i_coord = torch.linspace(start=1/len, end=1, steps=len).view(len, -1).expand(-1, len)\n",
    "        j_coord = torch.linspace(start=1/len, end=1, steps=len).view(-1, len).expand(len, -1)\n",
    "        self.coords = torch.stack([i_coord, j_coord])\n",
    "\n",
    "        print(self.coords.shape)\n",
    "\n",
    "    def forward(self, x): # X shape: [BS, C, X, Y]\n",
    "        BS = x.shape[0]\n",
    "        return torch.cat((x, self.coords.expand(BS,-1,-1,-1)), dim=1)\n"
   ]
  },
  {
   "cell_type": "code",
   "execution_count": 13,
   "metadata": {},
   "outputs": [
    {
     "name": "stdout",
     "output_type": "stream",
     "text": [
      "torch.Size([2, 3, 3])\n"
     ]
    },
    {
     "data": {
      "text/plain": [
       "tensor([[[[ 0.3132, -1.2751,  0.3140],\n",
       "          [-0.8071,  1.0047, -0.0824],\n",
       "          [-1.1597,  0.2384,  0.6021]],\n",
       "\n",
       "         [[-0.1609,  0.1951, -0.9957],\n",
       "          [-0.0579, -1.4935, -0.8635],\n",
       "          [-0.3646, -0.7525,  0.1695]],\n",
       "\n",
       "         [[ 0.3333,  0.3333,  0.3333],\n",
       "          [ 0.6667,  0.6667,  0.6667],\n",
       "          [ 1.0000,  1.0000,  1.0000]],\n",
       "\n",
       "         [[ 0.3333,  0.6667,  1.0000],\n",
       "          [ 0.3333,  0.6667,  1.0000],\n",
       "          [ 0.3333,  0.6667,  1.0000]]],\n",
       "\n",
       "\n",
       "        [[[-1.0702, -0.7219, -1.1978],\n",
       "          [ 0.7428,  0.8093, -0.7165],\n",
       "          [ 2.1106, -0.0861, -2.2430]],\n",
       "\n",
       "         [[-0.8242, -1.3410,  0.3254],\n",
       "          [ 2.3096,  0.9264, -0.8569],\n",
       "          [-0.3412, -0.0806,  1.2696]],\n",
       "\n",
       "         [[ 0.3333,  0.3333,  0.3333],\n",
       "          [ 0.6667,  0.6667,  0.6667],\n",
       "          [ 1.0000,  1.0000,  1.0000]],\n",
       "\n",
       "         [[ 0.3333,  0.6667,  1.0000],\n",
       "          [ 0.3333,  0.6667,  1.0000],\n",
       "          [ 0.3333,  0.6667,  1.0000]]],\n",
       "\n",
       "\n",
       "        [[[-1.5374,  1.2101,  0.2651],\n",
       "          [ 0.6887,  2.6190,  0.9181],\n",
       "          [ 0.3885,  0.9141,  1.0118]],\n",
       "\n",
       "         [[ 0.0968,  0.7336, -0.9341],\n",
       "          [-0.6265,  3.0547,  2.2440],\n",
       "          [ 1.2600, -0.7724,  0.6212]],\n",
       "\n",
       "         [[ 0.3333,  0.3333,  0.3333],\n",
       "          [ 0.6667,  0.6667,  0.6667],\n",
       "          [ 1.0000,  1.0000,  1.0000]],\n",
       "\n",
       "         [[ 0.3333,  0.6667,  1.0000],\n",
       "          [ 0.3333,  0.6667,  1.0000],\n",
       "          [ 0.3333,  0.6667,  1.0000]]]])"
      ]
     },
     "execution_count": 13,
     "metadata": {},
     "output_type": "execute_result"
    }
   ],
   "source": [
    "addcoord = AddCoord2D(3)\n",
    "addcoord(x)"
   ]
  },
  {
   "cell_type": "code",
   "execution_count": null,
   "metadata": {},
   "outputs": [],
   "source": []
  }
 ],
 "metadata": {
  "kernelspec": {
   "display_name": "Python 3",
   "language": "python",
   "name": "python3"
  },
  "language_info": {
   "codemirror_mode": {
    "name": "ipython",
    "version": 3
   },
   "file_extension": ".py",
   "mimetype": "text/x-python",
   "name": "python",
   "nbconvert_exporter": "python",
   "pygments_lexer": "ipython3",
   "version": "3.8.3"
  }
 },
 "nbformat": 4,
 "nbformat_minor": 2
}
