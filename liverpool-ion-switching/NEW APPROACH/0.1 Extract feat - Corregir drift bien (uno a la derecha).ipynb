{
 "cells": [
  {
   "cell_type": "code",
   "execution_count": 1,
   "metadata": {},
   "outputs": [],
   "source": [
    "import numpy as np\n",
    "import pandas as pd\n",
    "import matplotlib.pyplot as plt\n",
    "import altair as alt; alt.data_transformers.disable_max_rows()\n",
    "from ipywidgets import interact"
   ]
  },
  {
   "cell_type": "markdown",
   "metadata": {},
   "source": [
    "# Leer datos"
   ]
  },
  {
   "cell_type": "code",
   "execution_count": 2,
   "metadata": {},
   "outputs": [],
   "source": [
    "# Data types\n",
    "train_dtypes = {'time': np.float32, 'signal': np.float32, 'open_channels': np.int32 }\n",
    "test_dtypes  = {'time': np.float32, 'signal': np.float32 }\n",
    "\n",
    "# Read data\n",
    "df_train       = pd.read_csv('data/train.csv',             dtype= train_dtypes)\n",
    "df_test        = pd.read_csv('data/test.csv',              dtype= test_dtypes)\n",
    "df_train_drift = pd.read_csv('data/train_clean.csv',       dtype= train_dtypes)\n",
    "df_test_drift  = pd.read_csv('data/test_clean.csv',        dtype= test_dtypes)\n",
    "sub            = pd.read_csv('data/sample_submission.csv', dtype={'time': np.float32})"
   ]
  },
  {
   "cell_type": "markdown",
   "metadata": {},
   "source": [
    "# Poner el drift bien"
   ]
  },
  {
   "cell_type": "code",
   "execution_count": 3,
   "metadata": {},
   "outputs": [],
   "source": [
    "df_train['drift'] = df_train['signal'] - df_train_drift['signal']\n",
    "df_test['drift']  = df_test['signal']  - df_test_drift['signal']\n",
    "\n",
    "train_drift       = np.zeros_like(df_train['drift'])\n",
    "test_drift        = np.zeros_like(df_test['drift'])\n",
    "\n",
    "train_drift[1:]   = df_train['drift'][:-1]\n",
    "test_drift[1:]    = df_test['drift'][:-1]\n",
    "\n",
    "df_train['signal'] = df_train['signal']-train_drift\n",
    "df_test['signal']  = df_test['signal']-test_drift"
   ]
  },
  {
   "cell_type": "markdown",
   "metadata": {},
   "source": [
    "# Guardar"
   ]
  },
  {
   "cell_type": "code",
   "execution_count": 4,
   "metadata": {},
   "outputs": [],
   "source": [
    "np.save('data/0_y_train.npy', df_train['open_channels'].values)\n",
    "np.save('data/0_x_train.npy', df_train['signal'].values)\n",
    "np.save('data/0_x_test.npy',  df_test['signal'].values)"
   ]
  }
 ],
 "metadata": {
  "kernelspec": {
   "display_name": "Python 3",
   "language": "python",
   "name": "python3"
  },
  "language_info": {
   "codemirror_mode": {
    "name": "ipython",
    "version": 3
   },
   "file_extension": ".py",
   "mimetype": "text/x-python",
   "name": "python",
   "nbconvert_exporter": "python",
   "pygments_lexer": "ipython3",
   "version": "3.8.2"
  }
 },
 "nbformat": 4,
 "nbformat_minor": 2
}
